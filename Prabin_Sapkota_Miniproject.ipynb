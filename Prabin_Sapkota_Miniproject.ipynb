{
  "nbformat": 4,
  "nbformat_minor": 0,
  "metadata": {
    "kernelspec": {
      "name": "Python 3.7.0 64-bit ('scrap-venv')",
      "display_name": "Python 3.7.0 64-bit ('scrap-venv')",
      "metadata": {
        "interpreter": {
          "hash": "6ce17751b6758554a82ce2aec8a75b264559a279272374108f377c4ceb554c03"
        }
      }
    },
    "language_info": {
      "name": "python",
      "version": "3.7.0-final",
      "mimetype": "text/x-python",
      "codemirror_mode": {
        "name": "ipython",
        "version": 3
      },
      "pygments_lexer": "ipython3",
      "nbconvert_exporter": "python",
      "file_extension": ".py"
    },
    "colab": {
      "name": "Prabin Sapkota Miniproject.ipynb",
      "provenance": [],
      "collapsed_sections": []
    }
  },
  "cells": [
    {
      "source": [
        "# Project Overview"
      ],
      "cell_type": "markdown",
      "metadata": {
        "id": "qj3klUoBu5ov"
      }
    },
    {
      "cell_type": "markdown",
      "metadata": {
        "id": "UhVq5MD8u5ow"
      },
      "source": [
        "The Trump Administration, in association with the Department of Homeland Security, has put forward a proposal to change some of the requirements for H1B visa application which is one of the most common way foreign nationals get to work in American companies. In this project, I am going to explore the salaries of Software Engineers in the United States and try to see how it is going to affect non-immigrant Software Engineers. This effect on non-immigrant Software Engineers might also help us see how Tech companies (big and small) are going to be affected by this rule."
      ]
    },
    {
      "cell_type": "markdown",
      "metadata": {
        "id": "r2L-DEJzu5ox"
      },
      "source": [
        "# Problem Description\n",
        "With the new possible changes to H1B visa application requirements, entry-level candidates must have  a salary that is 45th percentile of their profession's salary. Similarly, high-skilled candidates must have a salary that is 95th percentile of their profession's salary. These numbers are up from existing 17th percentile and 67th percentile for entry-level and high-skilled candidates respectively. This is going to curb the number of applicants for the visa and overall create a negative sentiment among skilled foreign workers who have been major contributors in the field of science and technology being part of American companies. This, in turn, will affect American Tech companies which might suffer from brain drain in case this rule is implemented."
      ]
    },
    {
      "cell_type": "markdown",
      "metadata": {
        "id": "adnH_y8bu5ox"
      },
      "source": [
        "# Subject Matter Expertise\n",
        "\n",
        "In bulleted format, describe the subject matters that will help you explore your topic. Example:\n",
        " \n",
        "1. Data Analysis: I am going to use two different data sources to explore the recent amounts of salary of Software Engineers in the United States. Then, I am going to compare and contrast how the rule change will result in groups of Software Engineers who will be affected by the current rule implementation. In addition to this, I am going to explore the 2019 H1B dataset provided by the US government to see which companies hire most candidates in H1B visa, compare their average salaries and see how they will get affected.\n",
        "\n",
        "# TODO\n",
        "2. Data Visualization\n",
        "3. Statistics and Probability\n",
        "4. Hypothesis Testing\n",
        "5. Linear Regression"
      ]
    },
    {
      "cell_type": "markdown",
      "metadata": {
        "id": "OKBYDBtku5oy"
      },
      "source": [
        "# Assumptions\n",
        "The assumption is that more than number of eligible H1B candidates will be reduced to half if the new rule is implemented.\n"
      ]
    },
    {
      "cell_type": "markdown",
      "metadata": {
        "id": "qhw8_FLHu5oy"
      },
      "source": [
        "# Steps to Explore the Topic and Problem\n",
        "\n",
        "1. Download H1B employers data from USCIS website\n",
        "2. Web-scrape data from Glassdoor for Software Engineer Salaries in the US\n",
        "3. Download data from Stackoverflow Survey 2020 consisting of Software Engineer total compensation from all around the world\n",
        "4. Filter Stackoverflow data to have only rows relating to United States and that have total compensation stated\n",
        "5. Calculate the 17th, 45th, 67th, and 95th percentile of salaries of Software Engineers in the US from the Stackoverflow survey data\n",
        "\n",
        "same for glassdoor dataset\n",
        "some form of visualization to make it clear in diagrams, perhaps a bar chart or a histogram for both datasets\n",
        "explore the h1b dataset to see which companies employ the most h1b employers in the usa and see their average salaries and how they will be affected by the new percentile distribution\n",
        "6. Show relationship between actors' salary living in CA vs outside CA with bar chart\n",
        "7. Calculate median home price of homes in CA using web scrape data\n",
        "8. Compare this to median salary for actors using bar chart\n",
        "9. Make some intitial Conclusions on actor salary, location, and median home price on if actors can afford to live in CA."
      ]
    },
    {
      "cell_type": "markdown",
      "metadata": {
        "id": "QdLiEpj2u5oz"
      },
      "source": [
        "# Data Sources:\n",
        "\n",
        "In bulleted format, list where you will get data from. Data sources must include one existing data source and web-scrapted source. Example:\n",
        "\n",
        "1. U.S. Census Estimates of the Total Resident Population and Resident Population Age 18 Years and Older for the United States, States, and Puerto Rico `https://www2.census.gov/programs-surveys/popest/datasets/2010-2019/state/detail/SCPRC-EST2019-18+POP-RES.csv`\n",
        "2. Kaggle Elon Musk Tweets 'https://www.kaggle.com/kingburrito666/elon-musk-tweets'"
      ]
    },
    {
      "source": [
        "# Data Exploration\n",
        "Describe the data using what you know. For larger datasets may have to pull out columns that are of interst to you."
      ],
      "cell_type": "markdown",
      "metadata": {
        "id": "HSNPx-Jeu5oz"
      }
    },
    {
      "cell_type": "code",
      "execution_count": 16,
      "metadata": {},
      "outputs": [
        {
          "output_type": "execute_result",
          "data": {
            "text/plain": [
              "       Respondent                                         MainBranch Hobbyist  \\\n",
              "0               1                     I am a developer by profession      Yes   \n",
              "1               2                     I am a developer by profession       No   \n",
              "2               3                        I code primarily as a hobby      Yes   \n",
              "3               4                     I am a developer by profession      Yes   \n",
              "4               5  I used to be a developer by profession, but no...      Yes   \n",
              "...           ...                                                ...      ...   \n",
              "64456       64858                                                NaN      Yes   \n",
              "64457       64867                                                NaN      Yes   \n",
              "64458       64898                                                NaN      Yes   \n",
              "64459       64925                                                NaN      Yes   \n",
              "64460       65112                                                NaN      Yes   \n",
              "\n",
              "        Age Age1stCode CompFreq  CompTotal  ConvertedComp             Country  \\\n",
              "0       NaN         13  Monthly        NaN            NaN             Germany   \n",
              "1       NaN         19      NaN        NaN            NaN      United Kingdom   \n",
              "2       NaN         15      NaN        NaN            NaN  Russian Federation   \n",
              "3      25.0         18      NaN        NaN            NaN             Albania   \n",
              "4      31.0         16      NaN        NaN            NaN       United States   \n",
              "...     ...        ...      ...        ...            ...                 ...   \n",
              "64456   NaN         16      NaN        NaN            NaN       United States   \n",
              "64457   NaN        NaN      NaN        NaN            NaN             Morocco   \n",
              "64458   NaN        NaN      NaN        NaN            NaN            Viet Nam   \n",
              "64459   NaN        NaN      NaN        NaN            NaN              Poland   \n",
              "64460   NaN        NaN      NaN        NaN            NaN               Spain   \n",
              "\n",
              "         CurrencyDesc  ...                  SurveyEase           SurveyLength  \\\n",
              "0       European Euro  ...  Neither easy nor difficult  Appropriate in length   \n",
              "1      Pound sterling  ...                         NaN                    NaN   \n",
              "2                 NaN  ...  Neither easy nor difficult  Appropriate in length   \n",
              "3        Albanian lek  ...                         NaN                    NaN   \n",
              "4                 NaN  ...                        Easy              Too short   \n",
              "...               ...  ...                         ...                    ...   \n",
              "64456             NaN  ...                         NaN                    NaN   \n",
              "64457             NaN  ...                         NaN                    NaN   \n",
              "64458             NaN  ...                         NaN                    NaN   \n",
              "64459             NaN  ...                         NaN                    NaN   \n",
              "64460             NaN  ...                         NaN                    NaN   \n",
              "\n",
              "      Trans                                     UndergradMajor  \\\n",
              "0        No  Computer science, computer engineering, or sof...   \n",
              "1       NaN  Computer science, computer engineering, or sof...   \n",
              "2       NaN                                                NaN   \n",
              "3        No  Computer science, computer engineering, or sof...   \n",
              "4        No  Computer science, computer engineering, or sof...   \n",
              "...     ...                                                ...   \n",
              "64456   NaN  Computer science, computer engineering, or sof...   \n",
              "64457   NaN                                                NaN   \n",
              "64458   NaN                                                NaN   \n",
              "64459   NaN                                                NaN   \n",
              "64460   NaN  Computer science, computer engineering, or sof...   \n",
              "\n",
              "            WebframeDesireNextYear                      WebframeWorkedWith  \\\n",
              "0                     ASP.NET Core                    ASP.NET;ASP.NET Core   \n",
              "1                              NaN                                     NaN   \n",
              "2                              NaN                                     NaN   \n",
              "3                              NaN                                     NaN   \n",
              "4             Django;Ruby on Rails                           Ruby on Rails   \n",
              "...                            ...                                     ...   \n",
              "64456                          NaN                                     NaN   \n",
              "64457                          NaN                                     NaN   \n",
              "64458                          NaN                                     NaN   \n",
              "64459  Angular;Angular.js;React.js                                     NaN   \n",
              "64460          ASP.NET Core;jQuery  Angular;Angular.js;ASP.NET Core;jQuery   \n",
              "\n",
              "                                  WelcomeChange WorkWeekHrs YearsCode  \\\n",
              "0       Just as welcome now as I felt last year        50.0        36   \n",
              "1      Somewhat more welcome now than last year         NaN         7   \n",
              "2      Somewhat more welcome now than last year         NaN         4   \n",
              "3      Somewhat less welcome now than last year        40.0         7   \n",
              "4       Just as welcome now as I felt last year         NaN        15   \n",
              "...                                         ...         ...       ...   \n",
              "64456                                       NaN         NaN        10   \n",
              "64457                                       NaN         NaN       NaN   \n",
              "64458                                       NaN         NaN       NaN   \n",
              "64459                                       NaN         NaN       NaN   \n",
              "64460                                       NaN         NaN       NaN   \n",
              "\n",
              "           YearsCodePro  \n",
              "0                    27  \n",
              "1                     4  \n",
              "2                   NaN  \n",
              "3                     4  \n",
              "4                     8  \n",
              "...                 ...  \n",
              "64456  Less than 1 year  \n",
              "64457               NaN  \n",
              "64458               NaN  \n",
              "64459               NaN  \n",
              "64460               NaN  \n",
              "\n",
              "[64461 rows x 61 columns]"
            ],
            "text/html": "<div>\n<style scoped>\n    .dataframe tbody tr th:only-of-type {\n        vertical-align: middle;\n    }\n\n    .dataframe tbody tr th {\n        vertical-align: top;\n    }\n\n    .dataframe thead th {\n        text-align: right;\n    }\n</style>\n<table border=\"1\" class=\"dataframe\">\n  <thead>\n    <tr style=\"text-align: right;\">\n      <th></th>\n      <th>Respondent</th>\n      <th>MainBranch</th>\n      <th>Hobbyist</th>\n      <th>Age</th>\n      <th>Age1stCode</th>\n      <th>CompFreq</th>\n      <th>CompTotal</th>\n      <th>ConvertedComp</th>\n      <th>Country</th>\n      <th>CurrencyDesc</th>\n      <th>...</th>\n      <th>SurveyEase</th>\n      <th>SurveyLength</th>\n      <th>Trans</th>\n      <th>UndergradMajor</th>\n      <th>WebframeDesireNextYear</th>\n      <th>WebframeWorkedWith</th>\n      <th>WelcomeChange</th>\n      <th>WorkWeekHrs</th>\n      <th>YearsCode</th>\n      <th>YearsCodePro</th>\n    </tr>\n  </thead>\n  <tbody>\n    <tr>\n      <th>0</th>\n      <td>1</td>\n      <td>I am a developer by profession</td>\n      <td>Yes</td>\n      <td>NaN</td>\n      <td>13</td>\n      <td>Monthly</td>\n      <td>NaN</td>\n      <td>NaN</td>\n      <td>Germany</td>\n      <td>European Euro</td>\n      <td>...</td>\n      <td>Neither easy nor difficult</td>\n      <td>Appropriate in length</td>\n      <td>No</td>\n      <td>Computer science, computer engineering, or sof...</td>\n      <td>ASP.NET Core</td>\n      <td>ASP.NET;ASP.NET Core</td>\n      <td>Just as welcome now as I felt last year</td>\n      <td>50.0</td>\n      <td>36</td>\n      <td>27</td>\n    </tr>\n    <tr>\n      <th>1</th>\n      <td>2</td>\n      <td>I am a developer by profession</td>\n      <td>No</td>\n      <td>NaN</td>\n      <td>19</td>\n      <td>NaN</td>\n      <td>NaN</td>\n      <td>NaN</td>\n      <td>United Kingdom</td>\n      <td>Pound sterling</td>\n      <td>...</td>\n      <td>NaN</td>\n      <td>NaN</td>\n      <td>NaN</td>\n      <td>Computer science, computer engineering, or sof...</td>\n      <td>NaN</td>\n      <td>NaN</td>\n      <td>Somewhat more welcome now than last year</td>\n      <td>NaN</td>\n      <td>7</td>\n      <td>4</td>\n    </tr>\n    <tr>\n      <th>2</th>\n      <td>3</td>\n      <td>I code primarily as a hobby</td>\n      <td>Yes</td>\n      <td>NaN</td>\n      <td>15</td>\n      <td>NaN</td>\n      <td>NaN</td>\n      <td>NaN</td>\n      <td>Russian Federation</td>\n      <td>NaN</td>\n      <td>...</td>\n      <td>Neither easy nor difficult</td>\n      <td>Appropriate in length</td>\n      <td>NaN</td>\n      <td>NaN</td>\n      <td>NaN</td>\n      <td>NaN</td>\n      <td>Somewhat more welcome now than last year</td>\n      <td>NaN</td>\n      <td>4</td>\n      <td>NaN</td>\n    </tr>\n    <tr>\n      <th>3</th>\n      <td>4</td>\n      <td>I am a developer by profession</td>\n      <td>Yes</td>\n      <td>25.0</td>\n      <td>18</td>\n      <td>NaN</td>\n      <td>NaN</td>\n      <td>NaN</td>\n      <td>Albania</td>\n      <td>Albanian lek</td>\n      <td>...</td>\n      <td>NaN</td>\n      <td>NaN</td>\n      <td>No</td>\n      <td>Computer science, computer engineering, or sof...</td>\n      <td>NaN</td>\n      <td>NaN</td>\n      <td>Somewhat less welcome now than last year</td>\n      <td>40.0</td>\n      <td>7</td>\n      <td>4</td>\n    </tr>\n    <tr>\n      <th>4</th>\n      <td>5</td>\n      <td>I used to be a developer by profession, but no...</td>\n      <td>Yes</td>\n      <td>31.0</td>\n      <td>16</td>\n      <td>NaN</td>\n      <td>NaN</td>\n      <td>NaN</td>\n      <td>United States</td>\n      <td>NaN</td>\n      <td>...</td>\n      <td>Easy</td>\n      <td>Too short</td>\n      <td>No</td>\n      <td>Computer science, computer engineering, or sof...</td>\n      <td>Django;Ruby on Rails</td>\n      <td>Ruby on Rails</td>\n      <td>Just as welcome now as I felt last year</td>\n      <td>NaN</td>\n      <td>15</td>\n      <td>8</td>\n    </tr>\n    <tr>\n      <th>...</th>\n      <td>...</td>\n      <td>...</td>\n      <td>...</td>\n      <td>...</td>\n      <td>...</td>\n      <td>...</td>\n      <td>...</td>\n      <td>...</td>\n      <td>...</td>\n      <td>...</td>\n      <td>...</td>\n      <td>...</td>\n      <td>...</td>\n      <td>...</td>\n      <td>...</td>\n      <td>...</td>\n      <td>...</td>\n      <td>...</td>\n      <td>...</td>\n      <td>...</td>\n      <td>...</td>\n    </tr>\n    <tr>\n      <th>64456</th>\n      <td>64858</td>\n      <td>NaN</td>\n      <td>Yes</td>\n      <td>NaN</td>\n      <td>16</td>\n      <td>NaN</td>\n      <td>NaN</td>\n      <td>NaN</td>\n      <td>United States</td>\n      <td>NaN</td>\n      <td>...</td>\n      <td>NaN</td>\n      <td>NaN</td>\n      <td>NaN</td>\n      <td>Computer science, computer engineering, or sof...</td>\n      <td>NaN</td>\n      <td>NaN</td>\n      <td>NaN</td>\n      <td>NaN</td>\n      <td>10</td>\n      <td>Less than 1 year</td>\n    </tr>\n    <tr>\n      <th>64457</th>\n      <td>64867</td>\n      <td>NaN</td>\n      <td>Yes</td>\n      <td>NaN</td>\n      <td>NaN</td>\n      <td>NaN</td>\n      <td>NaN</td>\n      <td>NaN</td>\n      <td>Morocco</td>\n      <td>NaN</td>\n      <td>...</td>\n      <td>NaN</td>\n      <td>NaN</td>\n      <td>NaN</td>\n      <td>NaN</td>\n      <td>NaN</td>\n      <td>NaN</td>\n      <td>NaN</td>\n      <td>NaN</td>\n      <td>NaN</td>\n      <td>NaN</td>\n    </tr>\n    <tr>\n      <th>64458</th>\n      <td>64898</td>\n      <td>NaN</td>\n      <td>Yes</td>\n      <td>NaN</td>\n      <td>NaN</td>\n      <td>NaN</td>\n      <td>NaN</td>\n      <td>NaN</td>\n      <td>Viet Nam</td>\n      <td>NaN</td>\n      <td>...</td>\n      <td>NaN</td>\n      <td>NaN</td>\n      <td>NaN</td>\n      <td>NaN</td>\n      <td>NaN</td>\n      <td>NaN</td>\n      <td>NaN</td>\n      <td>NaN</td>\n      <td>NaN</td>\n      <td>NaN</td>\n    </tr>\n    <tr>\n      <th>64459</th>\n      <td>64925</td>\n      <td>NaN</td>\n      <td>Yes</td>\n      <td>NaN</td>\n      <td>NaN</td>\n      <td>NaN</td>\n      <td>NaN</td>\n      <td>NaN</td>\n      <td>Poland</td>\n      <td>NaN</td>\n      <td>...</td>\n      <td>NaN</td>\n      <td>NaN</td>\n      <td>NaN</td>\n      <td>NaN</td>\n      <td>Angular;Angular.js;React.js</td>\n      <td>NaN</td>\n      <td>NaN</td>\n      <td>NaN</td>\n      <td>NaN</td>\n      <td>NaN</td>\n    </tr>\n    <tr>\n      <th>64460</th>\n      <td>65112</td>\n      <td>NaN</td>\n      <td>Yes</td>\n      <td>NaN</td>\n      <td>NaN</td>\n      <td>NaN</td>\n      <td>NaN</td>\n      <td>NaN</td>\n      <td>Spain</td>\n      <td>NaN</td>\n      <td>...</td>\n      <td>NaN</td>\n      <td>NaN</td>\n      <td>NaN</td>\n      <td>Computer science, computer engineering, or sof...</td>\n      <td>ASP.NET Core;jQuery</td>\n      <td>Angular;Angular.js;ASP.NET Core;jQuery</td>\n      <td>NaN</td>\n      <td>NaN</td>\n      <td>NaN</td>\n      <td>NaN</td>\n    </tr>\n  </tbody>\n</table>\n<p>64461 rows × 61 columns</p>\n</div>"
          },
          "metadata": {},
          "execution_count": 16
        }
      ],
      "source": [
        "import pandas as pd\n",
        "import numpy as np\n",
        "\n",
        "so = pd.read_csv(\"stackoverflow_survey_results_public.csv\")\n",
        "so\n"
      ]
    },
    {
      "cell_type": "code",
      "execution_count": 22,
      "metadata": {},
      "outputs": [
        {
          "output_type": "execute_result",
          "data": {
            "text/plain": [
              "      CompFreq  CompTotal  ConvertedComp             Country\n",
              "0      Monthly        NaN            NaN             Germany\n",
              "1          NaN        NaN            NaN      United Kingdom\n",
              "2          NaN        NaN            NaN  Russian Federation\n",
              "3          NaN        NaN            NaN             Albania\n",
              "4          NaN        NaN            NaN       United States\n",
              "...        ...        ...            ...                 ...\n",
              "64456      NaN        NaN            NaN       United States\n",
              "64457      NaN        NaN            NaN             Morocco\n",
              "64458      NaN        NaN            NaN            Viet Nam\n",
              "64459      NaN        NaN            NaN              Poland\n",
              "64460      NaN        NaN            NaN               Spain\n",
              "\n",
              "[64461 rows x 4 columns]"
            ],
            "text/html": "<div>\n<style scoped>\n    .dataframe tbody tr th:only-of-type {\n        vertical-align: middle;\n    }\n\n    .dataframe tbody tr th {\n        vertical-align: top;\n    }\n\n    .dataframe thead th {\n        text-align: right;\n    }\n</style>\n<table border=\"1\" class=\"dataframe\">\n  <thead>\n    <tr style=\"text-align: right;\">\n      <th></th>\n      <th>CompFreq</th>\n      <th>CompTotal</th>\n      <th>ConvertedComp</th>\n      <th>Country</th>\n    </tr>\n  </thead>\n  <tbody>\n    <tr>\n      <th>0</th>\n      <td>Monthly</td>\n      <td>NaN</td>\n      <td>NaN</td>\n      <td>Germany</td>\n    </tr>\n    <tr>\n      <th>1</th>\n      <td>NaN</td>\n      <td>NaN</td>\n      <td>NaN</td>\n      <td>United Kingdom</td>\n    </tr>\n    <tr>\n      <th>2</th>\n      <td>NaN</td>\n      <td>NaN</td>\n      <td>NaN</td>\n      <td>Russian Federation</td>\n    </tr>\n    <tr>\n      <th>3</th>\n      <td>NaN</td>\n      <td>NaN</td>\n      <td>NaN</td>\n      <td>Albania</td>\n    </tr>\n    <tr>\n      <th>4</th>\n      <td>NaN</td>\n      <td>NaN</td>\n      <td>NaN</td>\n      <td>United States</td>\n    </tr>\n    <tr>\n      <th>...</th>\n      <td>...</td>\n      <td>...</td>\n      <td>...</td>\n      <td>...</td>\n    </tr>\n    <tr>\n      <th>64456</th>\n      <td>NaN</td>\n      <td>NaN</td>\n      <td>NaN</td>\n      <td>United States</td>\n    </tr>\n    <tr>\n      <th>64457</th>\n      <td>NaN</td>\n      <td>NaN</td>\n      <td>NaN</td>\n      <td>Morocco</td>\n    </tr>\n    <tr>\n      <th>64458</th>\n      <td>NaN</td>\n      <td>NaN</td>\n      <td>NaN</td>\n      <td>Viet Nam</td>\n    </tr>\n    <tr>\n      <th>64459</th>\n      <td>NaN</td>\n      <td>NaN</td>\n      <td>NaN</td>\n      <td>Poland</td>\n    </tr>\n    <tr>\n      <th>64460</th>\n      <td>NaN</td>\n      <td>NaN</td>\n      <td>NaN</td>\n      <td>Spain</td>\n    </tr>\n  </tbody>\n</table>\n<p>64461 rows × 4 columns</p>\n</div>"
          },
          "metadata": {},
          "execution_count": 22
        }
      ],
      "source": [
        "so_filtered = so.filter(items= [\"CompFreq\", \"CompTotal\", \"ConvertedComp\", \"Country\"])\n",
        "so_filtered"
      ]
    },
    {
      "cell_type": "code",
      "execution_count": 23,
      "metadata": {},
      "outputs": [
        {
          "output_type": "execute_result",
          "data": {
            "text/plain": [
              "      CompFreq  CompTotal  ConvertedComp        Country\n",
              "7       Yearly   116000.0       116000.0  United States\n",
              "13      Yearly    66000.0        66000.0  United States\n",
              "16      Yearly    79000.0        79000.0  United States\n",
              "17     Monthly   105000.0      1260000.0  United States\n",
              "18      Yearly    83400.0        83400.0  United States\n",
              "...        ...        ...            ...            ...\n",
              "64116   Yearly   150000.0       150000.0  United States\n",
              "64122   Yearly    70000.0        70000.0  United States\n",
              "64127   Yearly   140000.0       140000.0  United States\n",
              "64129   Weekly     3000.0       150000.0  United States\n",
              "64152   Yearly      200.0          200.0  United States\n",
              "\n",
              "[8171 rows x 4 columns]"
            ],
            "text/html": "<div>\n<style scoped>\n    .dataframe tbody tr th:only-of-type {\n        vertical-align: middle;\n    }\n\n    .dataframe tbody tr th {\n        vertical-align: top;\n    }\n\n    .dataframe thead th {\n        text-align: right;\n    }\n</style>\n<table border=\"1\" class=\"dataframe\">\n  <thead>\n    <tr style=\"text-align: right;\">\n      <th></th>\n      <th>CompFreq</th>\n      <th>CompTotal</th>\n      <th>ConvertedComp</th>\n      <th>Country</th>\n    </tr>\n  </thead>\n  <tbody>\n    <tr>\n      <th>7</th>\n      <td>Yearly</td>\n      <td>116000.0</td>\n      <td>116000.0</td>\n      <td>United States</td>\n    </tr>\n    <tr>\n      <th>13</th>\n      <td>Yearly</td>\n      <td>66000.0</td>\n      <td>66000.0</td>\n      <td>United States</td>\n    </tr>\n    <tr>\n      <th>16</th>\n      <td>Yearly</td>\n      <td>79000.0</td>\n      <td>79000.0</td>\n      <td>United States</td>\n    </tr>\n    <tr>\n      <th>17</th>\n      <td>Monthly</td>\n      <td>105000.0</td>\n      <td>1260000.0</td>\n      <td>United States</td>\n    </tr>\n    <tr>\n      <th>18</th>\n      <td>Yearly</td>\n      <td>83400.0</td>\n      <td>83400.0</td>\n      <td>United States</td>\n    </tr>\n    <tr>\n      <th>...</th>\n      <td>...</td>\n      <td>...</td>\n      <td>...</td>\n      <td>...</td>\n    </tr>\n    <tr>\n      <th>64116</th>\n      <td>Yearly</td>\n      <td>150000.0</td>\n      <td>150000.0</td>\n      <td>United States</td>\n    </tr>\n    <tr>\n      <th>64122</th>\n      <td>Yearly</td>\n      <td>70000.0</td>\n      <td>70000.0</td>\n      <td>United States</td>\n    </tr>\n    <tr>\n      <th>64127</th>\n      <td>Yearly</td>\n      <td>140000.0</td>\n      <td>140000.0</td>\n      <td>United States</td>\n    </tr>\n    <tr>\n      <th>64129</th>\n      <td>Weekly</td>\n      <td>3000.0</td>\n      <td>150000.0</td>\n      <td>United States</td>\n    </tr>\n    <tr>\n      <th>64152</th>\n      <td>Yearly</td>\n      <td>200.0</td>\n      <td>200.0</td>\n      <td>United States</td>\n    </tr>\n  </tbody>\n</table>\n<p>8171 rows × 4 columns</p>\n</div>"
          },
          "metadata": {},
          "execution_count": 23
        }
      ],
      "source": [
        "so_usa = so_filtered[so.Country == \"United States\"]\n",
        "so_usa = so_usa[so.CompTotal.isna() == False]\n",
        "so_usa"
      ]
    },
    {
      "cell_type": "code",
      "execution_count": 21,
      "metadata": {},
      "outputs": [
        {
          "output_type": "execute_result",
          "data": {
            "text/plain": [
              "      CompFreq  CompTotal  ConvertedComp        Country\n",
              "7       Yearly   116000.0       116000.0  United States\n",
              "13      Yearly    66000.0        66000.0  United States\n",
              "16      Yearly    79000.0        79000.0  United States\n",
              "18      Yearly    83400.0        83400.0  United States\n",
              "40      Yearly   106000.0       106000.0  United States\n",
              "...        ...        ...            ...            ...\n",
              "64113   Yearly   225000.0       225000.0  United States\n",
              "64116   Yearly   150000.0       150000.0  United States\n",
              "64122   Yearly    70000.0        70000.0  United States\n",
              "64127   Yearly   140000.0       140000.0  United States\n",
              "64152   Yearly      200.0          200.0  United States\n",
              "\n",
              "[7348 rows x 4 columns]"
            ],
            "text/html": "<div>\n<style scoped>\n    .dataframe tbody tr th:only-of-type {\n        vertical-align: middle;\n    }\n\n    .dataframe tbody tr th {\n        vertical-align: top;\n    }\n\n    .dataframe thead th {\n        text-align: right;\n    }\n</style>\n<table border=\"1\" class=\"dataframe\">\n  <thead>\n    <tr style=\"text-align: right;\">\n      <th></th>\n      <th>CompFreq</th>\n      <th>CompTotal</th>\n      <th>ConvertedComp</th>\n      <th>Country</th>\n    </tr>\n  </thead>\n  <tbody>\n    <tr>\n      <th>7</th>\n      <td>Yearly</td>\n      <td>116000.0</td>\n      <td>116000.0</td>\n      <td>United States</td>\n    </tr>\n    <tr>\n      <th>13</th>\n      <td>Yearly</td>\n      <td>66000.0</td>\n      <td>66000.0</td>\n      <td>United States</td>\n    </tr>\n    <tr>\n      <th>16</th>\n      <td>Yearly</td>\n      <td>79000.0</td>\n      <td>79000.0</td>\n      <td>United States</td>\n    </tr>\n    <tr>\n      <th>18</th>\n      <td>Yearly</td>\n      <td>83400.0</td>\n      <td>83400.0</td>\n      <td>United States</td>\n    </tr>\n    <tr>\n      <th>40</th>\n      <td>Yearly</td>\n      <td>106000.0</td>\n      <td>106000.0</td>\n      <td>United States</td>\n    </tr>\n    <tr>\n      <th>...</th>\n      <td>...</td>\n      <td>...</td>\n      <td>...</td>\n      <td>...</td>\n    </tr>\n    <tr>\n      <th>64113</th>\n      <td>Yearly</td>\n      <td>225000.0</td>\n      <td>225000.0</td>\n      <td>United States</td>\n    </tr>\n    <tr>\n      <th>64116</th>\n      <td>Yearly</td>\n      <td>150000.0</td>\n      <td>150000.0</td>\n      <td>United States</td>\n    </tr>\n    <tr>\n      <th>64122</th>\n      <td>Yearly</td>\n      <td>70000.0</td>\n      <td>70000.0</td>\n      <td>United States</td>\n    </tr>\n    <tr>\n      <th>64127</th>\n      <td>Yearly</td>\n      <td>140000.0</td>\n      <td>140000.0</td>\n      <td>United States</td>\n    </tr>\n    <tr>\n      <th>64152</th>\n      <td>Yearly</td>\n      <td>200.0</td>\n      <td>200.0</td>\n      <td>United States</td>\n    </tr>\n  </tbody>\n</table>\n<p>7348 rows × 4 columns</p>\n</div>"
          },
          "metadata": {},
          "execution_count": 21
        }
      ],
      "source": [
        "# Since I see that monthly and weekly fillings of salaries have discrepancies, I am going to get rid of them as they do not make up for a large portion of the dataset. A small sacrifice for consistency's sake.\n",
        "so_usa_yearly = so_usa[so_usa.CompFreq == \"Yearly\"]\n",
        "so_usa_yearly\n",
        "\n",
        "# Further data filtering is needed as there are outliers in the data"
      ]
    },
    {
      "cell_type": "markdown",
      "metadata": {
        "id": "rFdL1Hlbu5o0"
      },
      "source": [
        "# Data Cleaning\n",
        "Show techniques you use to reduce impact of outliers, drop missing, or null values (if any). \n",
        "\n",
        "Must show the total number of null or missing values.\n",
        "\n",
        "Must describe rows or columns dropped.\n",
        "\n",
        "What was the strategy for dropping outliers?"
      ]
    },
    {
      "cell_type": "markdown",
      "metadata": {
        "id": "fbZJO3dsu5o0"
      },
      "source": [
        "# Describe the Data Using Descriptive Stats\n",
        "Must show total number of rows and columns in dataset(s).\n",
        "\n",
        "Use descriptive stats to tell us about your data. Must include mean, median, and mode where applicable. Also must talk about normality of data.\n",
        "\n",
        "Remember what `standard deviation`, `mean`, `central tendency`, and `variance` mean for your data"
      ]
    },
    {
      "cell_type": "markdown",
      "metadata": {
        "id": "CsohcIRXu5o1"
      },
      "source": [
        "# Data Visualization\n",
        "Describe the plots you will use to visualize you data. Must use histogram, bar charts, and pie charts to describe aspects abou tthe data"
      ]
    },
    {
      "cell_type": "markdown",
      "metadata": {
        "id": "PjylE67-u5o1"
      },
      "source": [
        "# Topic Conclusions\n",
        "Based on what you found about your topic communicate it to the audience. How did the data analysis steps you took help you solve the problem or find out more information about the problem. Example:\n",
        "\n",
        "I wanted to explore if the average actor can live comfortably in California. I downloaded this dataset s and webscrapped this dataset. I did some stuff. I found that actors that live outside of california can afford to buy a home. Others can't. Blah blah blah blah"
      ]
    },
    {
      "cell_type": "markdown",
      "metadata": {
        "id": "e0AGWQGgu5o2"
      },
      "source": [
        "# Future Exploration\n",
        "List what you wish you could do with more knowledge about the topic. Also use this section to save aspects of your data into a new csv file for use in this future exploration. "
      ]
    },
    {
      "cell_type": "code",
      "metadata": {
        "id": "uprn9bGUu5o2"
      },
      "source": [
        ""
      ],
      "execution_count": null,
      "outputs": []
    }
  ]
}
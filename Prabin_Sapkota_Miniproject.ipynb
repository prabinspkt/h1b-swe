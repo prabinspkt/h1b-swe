{
  "nbformat": 4,
  "nbformat_minor": 0,
  "metadata": {
    "kernelspec": {
      "name": "Python 3.7.3 64-bit",
      "display_name": "Python 3.7.3 64-bit",
      "metadata": {
        "interpreter": {
          "hash": "31f2aee4e71d21fbe5cf8b01ff0e069b9275f58929596ceb00d14d90e3e16cd6"
        }
      }
    },
    "language_info": {
      "name": "python",
      "version": "3.7.3-final",
      "mimetype": "text/x-python",
      "codemirror_mode": {
        "name": "ipython",
        "version": 3
      },
      "pygments_lexer": "ipython3",
      "nbconvert_exporter": "python",
      "file_extension": ".py"
    },
    "colab": {
      "name": "Prabin Sapkota Miniproject.ipynb",
      "provenance": [],
      "collapsed_sections": []
    }
  },
  "cells": [
    {
      "source": [
        "# Project Overview"
      ],
      "cell_type": "markdown",
      "metadata": {
        "id": "qj3klUoBu5ov"
      }
    },
    {
      "cell_type": "markdown",
      "metadata": {
        "id": "UhVq5MD8u5ow"
      },
      "source": [
        "In a short paragragh describe the problem you want to explore use data science techniques"
      ]
    },
    {
      "cell_type": "code",
      "execution_count": 5,
      "metadata": {},
      "outputs": [
        {
          "output_type": "error",
          "ename": "ModuleNotFoundError",
          "evalue": "No module named 'pandas'",
          "traceback": [
            "\u001b[0;31m---------------------------------------------------------------------------\u001b[0m",
            "\u001b[0;31mModuleNotFoundError\u001b[0m                       Traceback (most recent call last)",
            "\u001b[0;32m<ipython-input-5-5bd88e400abd>\u001b[0m in \u001b[0;36m<module>\u001b[0;34m\u001b[0m\n\u001b[0;32m----> 1\u001b[0;31m \u001b[0;32mimport\u001b[0m \u001b[0mpandas\u001b[0m \u001b[0;32mas\u001b[0m \u001b[0mpd\u001b[0m\u001b[0;34m\u001b[0m\u001b[0;34m\u001b[0m\u001b[0m\n\u001b[0m\u001b[1;32m      2\u001b[0m \u001b[0;32mimport\u001b[0m \u001b[0mnumpy\u001b[0m \u001b[0;32mas\u001b[0m \u001b[0mnp\u001b[0m\u001b[0;34m\u001b[0m\u001b[0;34m\u001b[0m\u001b[0m\n\u001b[1;32m      3\u001b[0m \u001b[0;34m\u001b[0m\u001b[0m\n\u001b[1;32m      4\u001b[0m \u001b[0mh1b\u001b[0m \u001b[0;34m=\u001b[0m \u001b[0mpd\u001b[0m\u001b[0;34m.\u001b[0m\u001b[0mread_csv\u001b[0m\u001b[0;34m(\u001b[0m\u001b[0;34m\"h1b_datahubexport-2019.csv\"\u001b[0m\u001b[0;34m)\u001b[0m\u001b[0;34m\u001b[0m\u001b[0;34m\u001b[0m\u001b[0m\n",
            "\u001b[0;31mModuleNotFoundError\u001b[0m: No module named 'pandas'"
          ]
        }
      ],
      "source": [
        "import pandas as pd\n",
        "import numpy as np\n",
        "\n",
        "h1b = pd.read_csv(\"h1b_datahubexport-2019.csv\")"
      ]
    },
    {
      "cell_type": "markdown",
      "metadata": {
        "id": "r2L-DEJzu5ox"
      },
      "source": [
        "# Problem Description\n",
        "In one sentence describe the problem you want to explore with data science"
      ]
    },
    {
      "cell_type": "markdown",
      "metadata": {
        "id": "adnH_y8bu5ox"
      },
      "source": [
        "# Subject Matter Expertise\n",
        "\n",
        "In bulleted format, describe the subject matters that will help you explore your topic. Example:\n",
        " \n",
        "1. Data Analysis\n",
        "2. Data Visualization\n",
        "3. Statistics and Probability\n",
        "4. Hypothesis Testing\n",
        "5. Linear Regression"
      ]
    },
    {
      "cell_type": "markdown",
      "metadata": {
        "id": "OKBYDBtku5oy"
      },
      "source": [
        "# Assumptions\n",
        "List any assumptions you may have about the topic. \n",
        "`Assumptions are a thing that is accepted as true or as certain to happen, without proof.`\n"
      ]
    },
    {
      "cell_type": "markdown",
      "metadata": {
        "id": "qhw8_FLHu5oy"
      },
      "source": [
        "# Steps to Explore the Topic and Problem\n",
        "\n",
        "List the steps you're going to take to explore the topic using the data sources you identify and the techniques you already know. Please list them as step 1, step 2, step 3. Example:\n",
        "\n",
        "1. Download data from U.S. Census\n",
        "2. Web-scrape data from IMDB\n",
        "3. Find the number of actors that do not live in california\n",
        "4. Calculate the median salary for actors that do not live in California\n",
        "5. Show the relationship between actors living in CA vs outside CA with pie chart\n",
        "6. Show relationship between actors' salary living in CA vs outside CA with bar chart\n",
        "7. Calculate median home price of homes in CA using web scrape data\n",
        "8. Compare this to median salary for actors using bar chart\n",
        "9. Make some intitial Conclusions on actor salary, location, and median home price on if actors can afford to live in CA."
      ]
    },
    {
      "cell_type": "markdown",
      "metadata": {
        "id": "QdLiEpj2u5oz"
      },
      "source": [
        "# Data Sources:\n",
        "\n",
        "In bulleted format, list where you will get data from. Data sources must include one existing data source and web-scrapted source. Example:\n",
        "\n",
        "1. U.S. Census Estimates of the Total Resident Population and Resident Population Age 18 Years and Older for the United States, States, and Puerto Rico `https://www2.census.gov/programs-surveys/popest/datasets/2010-2019/state/detail/SCPRC-EST2019-18+POP-RES.csv`\n",
        "2. Kaggle Elon Musk Tweets 'https://www.kaggle.com/kingburrito666/elon-musk-tweets'"
      ]
    },
    {
      "source": [
        "# Data Exploration\n",
        "Describe the data using what you know. For larger datasets may have to pull out columns that are of interst to you."
      ],
      "cell_type": "markdown",
      "metadata": {
        "id": "HSNPx-Jeu5oz"
      }
    },
    {
      "cell_type": "markdown",
      "metadata": {
        "id": "rFdL1Hlbu5o0"
      },
      "source": [
        "# Data Cleaning\n",
        "Show techniques you use to reduce impact of outliers, drop missing, or null values (if any). \n",
        "\n",
        "Must show the total number of null or missing values.\n",
        "\n",
        "Must describe rows or columns dropped.\n",
        "\n",
        "What was the strategy for dropping outliers?"
      ]
    },
    {
      "cell_type": "markdown",
      "metadata": {
        "id": "fbZJO3dsu5o0"
      },
      "source": [
        "# Describe the Data Using Descriptive Stats\n",
        "Must show total number of rows and columns in dataset(s).\n",
        "\n",
        "Use descriptive stats to tell us about your data. Must include mean, median, and mode where applicable. Also must talk about normality of data.\n",
        "\n",
        "Remember what `standard deviation`, `mean`, `central tendency`, and `variance` mean for your data"
      ]
    },
    {
      "cell_type": "markdown",
      "metadata": {
        "id": "CsohcIRXu5o1"
      },
      "source": [
        "# Data Visualization\n",
        "Describe the plots you will use to visualize you data. Must use histogram, bar charts, and pie charts to describe aspects abou tthe data"
      ]
    },
    {
      "cell_type": "markdown",
      "metadata": {
        "id": "PjylE67-u5o1"
      },
      "source": [
        "# Topic Conclusions\n",
        "Based on what you found about your topic communicate it to the audience. How did the data analysis steps you took help you solve the problem or find out more information about the problem. Example:\n",
        "\n",
        "I wanted to explore if the average actor can live comfortably in California. I downloaded this dataset s and webscrapped this dataset. I did some stuff. I found that actors that live outside of california can afford to buy a home. Others can't. Blah blah blah blah"
      ]
    },
    {
      "cell_type": "markdown",
      "metadata": {
        "id": "e0AGWQGgu5o2"
      },
      "source": [
        "# Future Exploration\n",
        "List what you wish you could do with more knowledge about the topic. Also use this section to save aspects of your data into a new csv file for use in this future exploration. "
      ]
    },
    {
      "cell_type": "code",
      "metadata": {
        "id": "uprn9bGUu5o2"
      },
      "source": [
        ""
      ],
      "execution_count": null,
      "outputs": []
    }
  ]
}